{
 "cells": [
  {
   "cell_type": "code",
   "execution_count": 13,
   "metadata": {},
   "outputs": [],
   "source": [
    "import numpy as np\n",
    "import matplotlib.pyplot as plt\n",
    "from functools import partial\n",
    "from scipy.optimize import fsolve"
   ]
  },
  {
   "attachments": {},
   "cell_type": "markdown",
   "metadata": {},
   "source": [
    "# Zero Uniform State"
   ]
  },
  {
   "cell_type": "code",
   "execution_count": 11,
   "metadata": {},
   "outputs": [
    {
     "data": {
      "text/plain": [
       "-33.00330033003301"
      ]
     },
     "execution_count": 11,
     "metadata": {},
     "output_type": "execute_result"
    }
   ],
   "source": [
    "def calculate_zero_state_flux(p, m, a=33.33, f=0.01):\n",
    "    h = p / (a * f)\n",
    "    j = m * h # / 100 ?????\n",
    "    return -j\n",
    "\n",
    "calculate_zero_state_flux(1.1, 10)"
   ]
  },
  {
   "attachments": {},
   "cell_type": "markdown",
   "metadata": {},
   "source": [
    "# Nonzero Uniform State"
   ]
  },
  {
   "cell_type": "code",
   "execution_count": 18,
   "metadata": {},
   "outputs": [
    {
     "data": {
      "text/plain": [
       "array([0.0987552 , 0.18383096, 0.04745335])"
      ]
     },
     "execution_count": 18,
     "metadata": {},
     "output_type": "execute_result"
    }
   ],
   "source": [
    "def find_zeroes(state, p, m):\n",
    "    nu = 10 / 3\n",
    "    eta = 3.5\n",
    "    rho = 0.95\n",
    "    gamma = 50 / 3\n",
    "    delta_b = 1 / 30\n",
    "    delta_w = 10 / 3\n",
    "    delta_h = 1e-2 / 3\n",
    "    a = 33.33\n",
    "    q = 0.05\n",
    "    f = 0.1\n",
    "    \n",
    "    b, w, h = state\n",
    "\n",
    "    S = (1 + eta * b)**2\n",
    "    Gb = nu * w * S\n",
    "    Gw = gamma * b * S\n",
    "    I = a * (b + q*f) / (b + q)\n",
    "\n",
    "    eq_b = Gb*b*(1-b) - b\n",
    "    eq_w = I*h - nu*(1-rho*b)*w - Gw*w\n",
    "    eq_h = p - I*h + 2 * delta_h * m * h\n",
    "\n",
    "    return eq_b, eq_w, eq_h\n",
    "\n",
    "def calculate_nonzero_state_flux(p, m):\n",
    "    func = partial(find_zeroes, p=p, m=m)\n",
    "    b, w, h =  fsolve(find_zeroes, (1, 1, 1), args=(p, m))\n",
    "    j\n",
    "\n",
    "calculate_nonzero_state_flux(1.1, 10)"
   ]
  }
 ],
 "metadata": {
  "kernelspec": {
   "display_name": "dedalus3",
   "language": "python",
   "name": "python3"
  },
  "language_info": {
   "codemirror_mode": {
    "name": "ipython",
    "version": 3
   },
   "file_extension": ".py",
   "mimetype": "text/x-python",
   "name": "python",
   "nbconvert_exporter": "python",
   "pygments_lexer": "ipython3",
   "version": "3.11.3"
  },
  "orig_nbformat": 4
 },
 "nbformat": 4,
 "nbformat_minor": 2
}
