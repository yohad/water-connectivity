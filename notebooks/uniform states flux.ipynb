{
 "cells": [
  {
   "cell_type": "code",
   "execution_count": 2,
   "metadata": {},
   "outputs": [],
   "source": [
    "import numpy as np\n",
    "import matplotlib.pyplot as plt\n",
    "from functools import partial\n",
    "from scipy.optimize import fsolve"
   ]
  },
  {
   "attachments": {},
   "cell_type": "markdown",
   "metadata": {},
   "source": [
    "# Zero Uniform State"
   ]
  },
  {
   "cell_type": "code",
   "execution_count": 3,
   "metadata": {},
   "outputs": [],
   "source": [
    "def calculate_zero_state_flux(p, m, a=33.33, f=0.01, delta_h=1/300):\n",
    "    h = p / (a)\n",
    "    j = - 2 * delta_h * m * h\n",
    "    return np.abs(j)"
   ]
  },
  {
   "cell_type": "code",
   "execution_count": 4,
   "metadata": {},
   "outputs": [
    {
     "name": "stdout",
     "output_type": "stream",
     "text": [
      "2.200E-04\n",
      "2.500E-04\n",
      "2.600E-04\n"
     ]
    }
   ],
   "source": [
    "print(f\"{calculate_zero_state_flux(1.1, 1):.3E}\")\n",
    "print(f\"{calculate_zero_state_flux(1.25, 1):.3E}\")\n",
    "print(f\"{calculate_zero_state_flux(1.3, 1):.3E}\")"
   ]
  },
  {
   "attachments": {},
   "cell_type": "markdown",
   "metadata": {},
   "source": [
    "# Nonzero Uniform State"
   ]
  },
  {
   "cell_type": "code",
   "execution_count": 5,
   "metadata": {},
   "outputs": [],
   "source": [
    "def find_zeroes(state, p, m):\n",
    "    nu = 10 / 3\n",
    "    eta = 3.5\n",
    "    rho = 0.95\n",
    "    gamma = 50 / 3\n",
    "    delta_b = 1 / 30\n",
    "    delta_w = 10 / 3\n",
    "    delta_h = 1e-2 / 3\n",
    "    a = 33.33\n",
    "    q = 0.05\n",
    "    f = 0.1\n",
    "    \n",
    "    b, w, h = state\n",
    "\n",
    "    S = (1 + eta * b)**2\n",
    "    Gb = nu * w * S\n",
    "    Gw = gamma * b * S\n",
    "    I = a * (b + q*f) / (b + q)\n",
    "\n",
    "    eq_b = Gb*b*(1-b) - b\n",
    "    eq_w = I*h - nu*(1-rho*b)*w - Gw*w\n",
    "    eq_h = p - I*h + 2 * delta_h * m * h\n",
    "\n",
    "    return eq_b, eq_w, eq_h\n",
    "\n",
    "def calculate_nonzero_state_flux(p, m):\n",
    "    func = partial(find_zeroes, p=p, m=m)\n",
    "    b, w, h = fsolve(find_zeroes, (1, 1, 1), args=(p, m))\n",
    "    \n",
    "    J = -m * h\n",
    "    return J\n"
   ]
  },
  {
   "cell_type": "code",
   "execution_count": 6,
   "metadata": {},
   "outputs": [
    {
     "name": "stderr",
     "output_type": "stream",
     "text": [
      "/home/yotamo/anaconda3/envs/dedalus3/lib/python3.11/site-packages/scipy/optimize/_minpack_py.py:178: RuntimeWarning: The iteration is not making good progress, as measured by the \n",
      "  improvement from the last five Jacobian evaluations.\n",
      "  warnings.warn(msg, RuntimeWarning)\n"
     ]
    },
    {
     "data": {
      "text/plain": [
       "[<matplotlib.lines.Line2D at 0x7f9696d72310>]"
      ]
     },
     "execution_count": 6,
     "metadata": {},
     "output_type": "execute_result"
    },
    {
     "data": {
      "image/png": "[encoded data removed]",
      "text/plain": [
       "<Figure size 640x480 with 1 Axes>"
      ]
     },
     "metadata": {},
     "output_type": "display_data"
    }
   ],
   "source": [
    "ps = np.linspace(0.9, 1.5)\n",
    "js = [calculate_nonzero_state_flux(p, 1) for p in ps]\n",
    "plt.plot(ps, js, label=\"zero state\")"
   ]
  }
 ],
 "metadata": {
  "kernelspec": {
   "display_name": "dedalus3",
   "language": "python",
   "name": "python3"
  },
  "language_info": {
   "codemirror_mode": {
    "name": "ipython",
    "version": 3
   },
   "file_extension": ".py",
   "mimetype": "text/x-python",
   "name": "python",
   "nbconvert_exporter": "python",
   "pygments_lexer": "ipython3",
   "version": "3.11.3"
  },
  "orig_nbformat": 4
 },
 "nbformat": 4,
 "nbformat_minor": 2
}
