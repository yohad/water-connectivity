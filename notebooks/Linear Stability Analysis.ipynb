{
 "cells": [
  {
   "cell_type": "code",
   "execution_count": 3,
   "metadata": {},
   "outputs": [],
   "source": [
    "import sympy as sp\n",
    "from IPython.display import display"
   ]
  },
  {
   "cell_type": "code",
   "execution_count": 4,
   "metadata": {},
   "outputs": [
    {
     "data": {
      "text/latex": [
       "$\\displaystyle a f + \\frac{a b}{q} - \\frac{a b f}{q} + O\\left(b^{2}\\right)$"
      ],
      "text/plain": [
       "a*f + a*b/q - a*b*f/q + O(b**2)"
      ]
     },
     "metadata": {},
     "output_type": "display_data"
    }
   ],
   "source": [
    "# Get linear apporximation for `I`\n",
    "\n",
    "b = sp.symbols(\"b\")\n",
    "q = sp.symbols(\"q\")\n",
    "f = sp.symbols(\"f\")\n",
    "a = sp.symbols(\"a\")\n",
    "I = a * (b + q * f) / (b + q)\n",
    "\n",
    "display(sp.series(I, b, 0, 2).expand())"
   ]
  },
  {
   "cell_type": "code",
   "execution_count": 5,
   "metadata": {},
   "outputs": [],
   "source": [
    "x, y = sp.symbols('x y')\n",
    "\n",
    "e_b, e_w, e_h, kx, ky = sp.symbols('\\\\varepsilon_b \\\\varepsilon_w \\\\varepsilon_h k_x k_y')\n",
    "a, v, dw, p, dh, eta, db = sp.symbols('\\\\alpha \\\\nu \\\\delta_w p \\\\delta_h eta \\\\delta_b')\n",
    "\n",
    "b0, w0, h0 = sp.symbols('b_0 w_0 h_0')\n",
    "\n",
    "eb = e_b * sp.exp(sp.I*(kx*x + ky*y))\n",
    "ew = e_w * sp.exp(sp.I*(kx*x + ky*y))\n",
    "eh = e_h * sp.exp(sp.I*(kx*x + ky*y))\n",
    "\n",
    "b = b0 + eb\n",
    "w = w0 + ew\n",
    "h = h0 + eh\n",
    "\n",
    "m = sp.symbols('m')\n",
    "zeta = m * y\n",
    "\n",
    "q = sp.symbols('q')\n",
    "f = sp.symbols('f')\n",
    "I = a * f + a/q * b * (1-f)\n",
    "\n",
    "def laplace(f):\n",
    "    return sp.diff(f, x, 2) + sp.diff(f, y, 2)\n",
    "\n",
    "def grad(f):\n",
    "    return sp.Matrix([sp.diff(f, x), sp.diff(f, y)])\n",
    "\n",
    "def div(f):\n",
    "    return sp.diff(f[0], x) + sp.diff(f[1], y)\n",
    "\n",
    "def inner_product(f, g):\n",
    "    return f[0]*g[0] + f[1]*g[1]\n",
    "\n",
    "S = sp.Pow(1+eta*b, 2)\n",
    "eq_b = v * w * S*b*(1-b)-b+db*laplace(b)\n",
    "\n",
    "eq_w = I*h-v*w +dw*laplace(w)\n",
    "\n",
    "J = - 2*dh * h * grad(h+zeta)\n",
    "eq_h = p-I*h -div(J)\n"
   ]
  },
  {
   "cell_type": "code",
   "execution_count": 6,
   "metadata": {},
   "outputs": [
    {
     "data": {
      "text/latex": [
       "$\\displaystyle - \\nu \\varepsilon_{w} b_{0}^{4} \\eta^{2} e^{i k_{x} x} e^{i k_{y} y} + \\nu \\varepsilon_{w} b_{0}^{3} \\eta^{2} e^{i k_{x} x} e^{i k_{y} y} - 2 \\nu \\varepsilon_{w} b_{0}^{3} \\eta e^{i k_{x} x} e^{i k_{y} y} + 2 \\nu \\varepsilon_{w} b_{0}^{2} \\eta e^{i k_{x} x} e^{i k_{y} y} - \\nu \\varepsilon_{w} b_{0}^{2} e^{i k_{x} x} e^{i k_{y} y} + \\nu \\varepsilon_{w} b_{0} e^{i k_{x} x} e^{i k_{y} y} - \\nu b_{0}^{4} \\eta^{2} w_{0} + \\nu b_{0}^{3} \\eta^{2} w_{0} - 2 \\nu b_{0}^{3} \\eta w_{0} + 2 \\nu b_{0}^{2} \\eta w_{0} - \\nu b_{0}^{2} w_{0} + \\nu b_{0} w_{0} + \\varepsilon_{b}^{4} \\left(- \\nu \\varepsilon_{w} \\eta^{2} e^{5 i k_{x} x} e^{5 i k_{y} y} - \\nu \\eta^{2} w_{0} e^{4 i k_{x} x} e^{4 i k_{y} y}\\right) + \\varepsilon_{b}^{3} \\left(- 4 \\nu \\varepsilon_{w} b_{0} \\eta^{2} e^{4 i k_{x} x} e^{4 i k_{y} y} + \\nu \\varepsilon_{w} \\eta^{2} e^{4 i k_{x} x} e^{4 i k_{y} y} - 2 \\nu \\varepsilon_{w} \\eta e^{4 i k_{x} x} e^{4 i k_{y} y} - 4 \\nu b_{0} \\eta^{2} w_{0} e^{3 i k_{x} x} e^{3 i k_{y} y} + \\nu \\eta^{2} w_{0} e^{3 i k_{x} x} e^{3 i k_{y} y} - 2 \\nu \\eta w_{0} e^{3 i k_{x} x} e^{3 i k_{y} y}\\right) + \\varepsilon_{b}^{2} \\left(- 6 \\nu \\varepsilon_{w} b_{0}^{2} \\eta^{2} e^{3 i k_{x} x} e^{3 i k_{y} y} + 3 \\nu \\varepsilon_{w} b_{0} \\eta^{2} e^{3 i k_{x} x} e^{3 i k_{y} y} - 6 \\nu \\varepsilon_{w} b_{0} \\eta e^{3 i k_{x} x} e^{3 i k_{y} y} + 2 \\nu \\varepsilon_{w} \\eta e^{3 i k_{x} x} e^{3 i k_{y} y} - \\nu \\varepsilon_{w} e^{3 i k_{x} x} e^{3 i k_{y} y} - 6 \\nu b_{0}^{2} \\eta^{2} w_{0} e^{2 i k_{x} x} e^{2 i k_{y} y} + 3 \\nu b_{0} \\eta^{2} w_{0} e^{2 i k_{x} x} e^{2 i k_{y} y} - 6 \\nu b_{0} \\eta w_{0} e^{2 i k_{x} x} e^{2 i k_{y} y} + 2 \\nu \\eta w_{0} e^{2 i k_{x} x} e^{2 i k_{y} y} - \\nu w_{0} e^{2 i k_{x} x} e^{2 i k_{y} y}\\right) + \\varepsilon_{b} \\left(- \\delta_{b} k_{x}^{2} e^{i k_{x} x} e^{i k_{y} y} - \\delta_{b} k_{y}^{2} e^{i k_{x} x} e^{i k_{y} y} - 4 \\nu \\varepsilon_{w} b_{0}^{3} \\eta^{2} e^{2 i k_{x} x} e^{2 i k_{y} y} + 3 \\nu \\varepsilon_{w} b_{0}^{2} \\eta^{2} e^{2 i k_{x} x} e^{2 i k_{y} y} - 6 \\nu \\varepsilon_{w} b_{0}^{2} \\eta e^{2 i k_{x} x} e^{2 i k_{y} y} + 4 \\nu \\varepsilon_{w} b_{0} \\eta e^{2 i k_{x} x} e^{2 i k_{y} y} - 2 \\nu \\varepsilon_{w} b_{0} e^{2 i k_{x} x} e^{2 i k_{y} y} + \\nu \\varepsilon_{w} e^{2 i k_{x} x} e^{2 i k_{y} y} - 4 \\nu b_{0}^{3} \\eta^{2} w_{0} e^{i k_{x} x} e^{i k_{y} y} + 3 \\nu b_{0}^{2} \\eta^{2} w_{0} e^{i k_{x} x} e^{i k_{y} y} - 6 \\nu b_{0}^{2} \\eta w_{0} e^{i k_{x} x} e^{i k_{y} y} + 4 \\nu b_{0} \\eta w_{0} e^{i k_{x} x} e^{i k_{y} y} - 2 \\nu b_{0} w_{0} e^{i k_{x} x} e^{i k_{y} y} + \\nu w_{0} e^{i k_{x} x} e^{i k_{y} y} - e^{i k_{x} x} e^{i k_{y} y}\\right) - b_{0}$"
      ],
      "text/plain": [
       "-\\nu*\\varepsilon_w*b_0**4*eta**2*exp(I*k_x*x)*exp(I*k_y*y) + \\nu*\\varepsilon_w*b_0**3*eta**2*exp(I*k_x*x)*exp(I*k_y*y) - 2*\\nu*\\varepsilon_w*b_0**3*eta*exp(I*k_x*x)*exp(I*k_y*y) + 2*\\nu*\\varepsilon_w*b_0**2*eta*exp(I*k_x*x)*exp(I*k_y*y) - \\nu*\\varepsilon_w*b_0**2*exp(I*k_x*x)*exp(I*k_y*y) + \\nu*\\varepsilon_w*b_0*exp(I*k_x*x)*exp(I*k_y*y) - \\nu*b_0**4*eta**2*w_0 + \\nu*b_0**3*eta**2*w_0 - 2*\\nu*b_0**3*eta*w_0 + 2*\\nu*b_0**2*eta*w_0 - \\nu*b_0**2*w_0 + \\nu*b_0*w_0 + \\varepsilon_b**4*(-\\nu*\\varepsilon_w*eta**2*exp(5*I*k_x*x)*exp(5*I*k_y*y) - \\nu*eta**2*w_0*exp(4*I*k_x*x)*exp(4*I*k_y*y)) + \\varepsilon_b**3*(-4*\\nu*\\varepsilon_w*b_0*eta**2*exp(4*I*k_x*x)*exp(4*I*k_y*y) + \\nu*\\varepsilon_w*eta**2*exp(4*I*k_x*x)*exp(4*I*k_y*y) - 2*\\nu*\\varepsilon_w*eta*exp(4*I*k_x*x)*exp(4*I*k_y*y) - 4*\\nu*b_0*eta**2*w_0*exp(3*I*k_x*x)*exp(3*I*k_y*y) + \\nu*eta**2*w_0*exp(3*I*k_x*x)*exp(3*I*k_y*y) - 2*\\nu*eta*w_0*exp(3*I*k_x*x)*exp(3*I*k_y*y)) + \\varepsilon_b**2*(-6*\\nu*\\varepsilon_w*b_0**2*eta**2*exp(3*I*k_x*x)*exp(3*I*k_y*y) + 3*\\nu*\\varepsilon_w*b_0*eta**2*exp(3*I*k_x*x)*exp(3*I*k_y*y) - 6*\\nu*\\varepsilon_w*b_0*eta*exp(3*I*k_x*x)*exp(3*I*k_y*y) + 2*\\nu*\\varepsilon_w*eta*exp(3*I*k_x*x)*exp(3*I*k_y*y) - \\nu*\\varepsilon_w*exp(3*I*k_x*x)*exp(3*I*k_y*y) - 6*\\nu*b_0**2*eta**2*w_0*exp(2*I*k_x*x)*exp(2*I*k_y*y) + 3*\\nu*b_0*eta**2*w_0*exp(2*I*k_x*x)*exp(2*I*k_y*y) - 6*\\nu*b_0*eta*w_0*exp(2*I*k_x*x)*exp(2*I*k_y*y) + 2*\\nu*eta*w_0*exp(2*I*k_x*x)*exp(2*I*k_y*y) - \\nu*w_0*exp(2*I*k_x*x)*exp(2*I*k_y*y)) + \\varepsilon_b*(-\\delta_b*k_x**2*exp(I*k_x*x)*exp(I*k_y*y) - \\delta_b*k_y**2*exp(I*k_x*x)*exp(I*k_y*y) - 4*\\nu*\\varepsilon_w*b_0**3*eta**2*exp(2*I*k_x*x)*exp(2*I*k_y*y) + 3*\\nu*\\varepsilon_w*b_0**2*eta**2*exp(2*I*k_x*x)*exp(2*I*k_y*y) - 6*\\nu*\\varepsilon_w*b_0**2*eta*exp(2*I*k_x*x)*exp(2*I*k_y*y) + 4*\\nu*\\varepsilon_w*b_0*eta*exp(2*I*k_x*x)*exp(2*I*k_y*y) - 2*\\nu*\\varepsilon_w*b_0*exp(2*I*k_x*x)*exp(2*I*k_y*y) + \\nu*\\varepsilon_w*exp(2*I*k_x*x)*exp(2*I*k_y*y) - 4*\\nu*b_0**3*eta**2*w_0*exp(I*k_x*x)*exp(I*k_y*y) + 3*\\nu*b_0**2*eta**2*w_0*exp(I*k_x*x)*exp(I*k_y*y) - 6*\\nu*b_0**2*eta*w_0*exp(I*k_x*x)*exp(I*k_y*y) + 4*\\nu*b_0*eta*w_0*exp(I*k_x*x)*exp(I*k_y*y) - 2*\\nu*b_0*w_0*exp(I*k_x*x)*exp(I*k_y*y) + \\nu*w_0*exp(I*k_x*x)*exp(I*k_y*y) - exp(I*k_x*x)*exp(I*k_y*y)) - b_0"
      ]
     },
     "execution_count": 6,
     "metadata": {},
     "output_type": "execute_result"
    }
   ],
   "source": [
    "eq_b.expand().collect(e_b).collect(e_h).collect(e_h)"
   ]
  },
  {
   "cell_type": "code",
   "execution_count": 7,
   "metadata": {},
   "outputs": [
    {
     "data": {
      "text/latex": [
       "$\\displaystyle - \\frac{\\alpha b_{0} f h_{0}}{q} + \\frac{\\alpha b_{0} h_{0}}{q} + \\alpha f h_{0} - \\nu w_{0} + \\varepsilon_{b} \\left(- \\frac{\\alpha f h_{0} e^{i k_{x} x} e^{i k_{y} y}}{q} + \\frac{\\alpha h_{0} e^{i k_{x} x} e^{i k_{y} y}}{q} + \\varepsilon_{h} \\left(- \\frac{\\alpha f e^{2 i k_{x} x} e^{2 i k_{y} y}}{q} + \\frac{\\alpha e^{2 i k_{x} x} e^{2 i k_{y} y}}{q}\\right)\\right) + \\varepsilon_{h} \\left(- \\frac{\\alpha b_{0} f e^{i k_{x} x} e^{i k_{y} y}}{q} + \\frac{\\alpha b_{0} e^{i k_{x} x} e^{i k_{y} y}}{q} + \\alpha f e^{i k_{x} x} e^{i k_{y} y}\\right) + \\varepsilon_{w} \\left(- \\delta_{w} k_{x}^{2} e^{i k_{x} x} e^{i k_{y} y} - \\delta_{w} k_{y}^{2} e^{i k_{x} x} e^{i k_{y} y} - \\nu e^{i k_{x} x} e^{i k_{y} y}\\right)$"
      ],
      "text/plain": [
       "-\\alpha*b_0*f*h_0/q + \\alpha*b_0*h_0/q + \\alpha*f*h_0 - \\nu*w_0 + \\varepsilon_b*(-\\alpha*f*h_0*exp(I*k_x*x)*exp(I*k_y*y)/q + \\alpha*h_0*exp(I*k_x*x)*exp(I*k_y*y)/q + \\varepsilon_h*(-\\alpha*f*exp(2*I*k_x*x)*exp(2*I*k_y*y)/q + \\alpha*exp(2*I*k_x*x)*exp(2*I*k_y*y)/q)) + \\varepsilon_h*(-\\alpha*b_0*f*exp(I*k_x*x)*exp(I*k_y*y)/q + \\alpha*b_0*exp(I*k_x*x)*exp(I*k_y*y)/q + \\alpha*f*exp(I*k_x*x)*exp(I*k_y*y)) + \\varepsilon_w*(-\\delta_w*k_x**2*exp(I*k_x*x)*exp(I*k_y*y) - \\delta_w*k_y**2*exp(I*k_x*x)*exp(I*k_y*y) - \\nu*exp(I*k_x*x)*exp(I*k_y*y))"
      ]
     },
     "execution_count": 7,
     "metadata": {},
     "output_type": "execute_result"
    }
   ],
   "source": [
    "eq_w.expand().collect(e_b).collect(e_w).collect(e_h)"
   ]
  },
  {
   "cell_type": "code",
   "execution_count": 8,
   "metadata": {},
   "outputs": [
    {
     "data": {
      "text/latex": [
       "$\\displaystyle \\frac{\\alpha b_{0} f h_{0}}{q} - \\frac{\\alpha b_{0} h_{0}}{q} - \\alpha f h_{0} + \\varepsilon_{b} \\left(\\frac{\\alpha f h_{0} e^{i k_{x} x} e^{i k_{y} y}}{q} - \\frac{\\alpha h_{0} e^{i k_{x} x} e^{i k_{y} y}}{q} + \\varepsilon_{h} \\left(\\frac{\\alpha f e^{2 i k_{x} x} e^{2 i k_{y} y}}{q} - \\frac{\\alpha e^{2 i k_{x} x} e^{2 i k_{y} y}}{q}\\right)\\right) + \\varepsilon_{h}^{2} \\left(- 4 \\delta_{h} k_{x}^{2} e^{2 i k_{x} x} e^{2 i k_{y} y} - 4 \\delta_{h} k_{y}^{2} e^{2 i k_{x} x} e^{2 i k_{y} y}\\right) + \\varepsilon_{h} \\left(\\frac{\\alpha b_{0} f e^{i k_{x} x} e^{i k_{y} y}}{q} - \\frac{\\alpha b_{0} e^{i k_{x} x} e^{i k_{y} y}}{q} - \\alpha f e^{i k_{x} x} e^{i k_{y} y} - 2 \\delta_{h} h_{0} k_{x}^{2} e^{i k_{x} x} e^{i k_{y} y} - 2 \\delta_{h} h_{0} k_{y}^{2} e^{i k_{x} x} e^{i k_{y} y} + 2 i \\delta_{h} k_{y} m e^{i k_{x} x} e^{i k_{y} y}\\right) + p$"
      ],
      "text/plain": [
       "\\alpha*b_0*f*h_0/q - \\alpha*b_0*h_0/q - \\alpha*f*h_0 + \\varepsilon_b*(\\alpha*f*h_0*exp(I*k_x*x)*exp(I*k_y*y)/q - \\alpha*h_0*exp(I*k_x*x)*exp(I*k_y*y)/q + \\varepsilon_h*(\\alpha*f*exp(2*I*k_x*x)*exp(2*I*k_y*y)/q - \\alpha*exp(2*I*k_x*x)*exp(2*I*k_y*y)/q)) + \\varepsilon_h**2*(-4*\\delta_h*k_x**2*exp(2*I*k_x*x)*exp(2*I*k_y*y) - 4*\\delta_h*k_y**2*exp(2*I*k_x*x)*exp(2*I*k_y*y)) + \\varepsilon_h*(\\alpha*b_0*f*exp(I*k_x*x)*exp(I*k_y*y)/q - \\alpha*b_0*exp(I*k_x*x)*exp(I*k_y*y)/q - \\alpha*f*exp(I*k_x*x)*exp(I*k_y*y) - 2*\\delta_h*h_0*k_x**2*exp(I*k_x*x)*exp(I*k_y*y) - 2*\\delta_h*h_0*k_y**2*exp(I*k_x*x)*exp(I*k_y*y) + 2*I*\\delta_h*k_y*m*exp(I*k_x*x)*exp(I*k_y*y)) + p"
      ]
     },
     "execution_count": 8,
     "metadata": {},
     "output_type": "execute_result"
    }
   ],
   "source": [
    "eq_h.expand().collect(e_b).collect(e_w).collect(e_h)"
   ]
  }
 ],
 "metadata": {
  "kernelspec": {
   "display_name": "base",
   "language": "python",
   "name": "python3"
  },
  "language_info": {
   "codemirror_mode": {
    "name": "ipython",
    "version": 3
   },
   "file_extension": ".py",
   "mimetype": "text/x-python",
   "name": "python",
   "nbconvert_exporter": "python",
   "pygments_lexer": "ipython3",
   "version": "3.11.3"
  },
  "orig_nbformat": 4
 },
 "nbformat": 4,
 "nbformat_minor": 2
}
